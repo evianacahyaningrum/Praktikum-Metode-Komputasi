{
 "cells": [
  {
   "cell_type": "code",
   "execution_count": null,
   "id": "loose-damages",
   "metadata": {},
   "outputs": [],
   "source": [
    "print(\"Hello World\")"
   ]
  },
  {
   "cell_type": "markdown",
   "id": "atmospheric-technology",
   "metadata": {},
   "source": [
    "# Eviana Cahyaningrum\n",
    "## 20/462136/PA/20108\n",
    "### Geofisika 2020"
   ]
  },
  {
   "cell_type": "code",
   "execution_count": null,
   "id": "hungarian-cricket",
   "metadata": {},
   "outputs": [],
   "source": [
    "#/=================================================/\n",
    "#                                                  /\n",
    "# Program halo.py                                  /\n",
    "#by evianacahyaningrum@mail.ugm.ac.id              /\n",
    "#                                                  /\n",
    "#/=================================================/"
   ]
  },
  {
   "cell_type": "code",
   "execution_count": null,
   "id": "experimental-attendance",
   "metadata": {},
   "outputs": [],
   "source": []
  }
 ],
 "metadata": {
  "kernelspec": {
   "display_name": "Python 3",
   "language": "python",
   "name": "python3"
  }
 },
 "nbformat": 4,
 "nbformat_minor": 5
}
